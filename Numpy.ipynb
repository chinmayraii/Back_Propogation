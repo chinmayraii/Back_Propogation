{
 "cells": [
  {
   "cell_type": "code",
   "execution_count": 1,
   "id": "214f77ae",
   "metadata": {},
   "outputs": [],
   "source": [
    "import numpy as np\n",
    "import torch"
   ]
  },
  {
   "cell_type": "code",
   "execution_count": 3,
   "id": "5f0d84c0",
   "metadata": {},
   "outputs": [],
   "source": [
    "list=[3,7,8,9]\n",
    "ary=np.array(list)\n"
   ]
  },
  {
   "cell_type": "code",
   "execution_count": 4,
   "id": "c44369e9",
   "metadata": {},
   "outputs": [
    {
     "data": {
      "text/plain": [
       "array([3, 7, 8, 9])"
      ]
     },
     "execution_count": 4,
     "metadata": {},
     "output_type": "execute_result"
    }
   ],
   "source": [
    "ary"
   ]
  },
  {
   "cell_type": "code",
   "execution_count": 17,
   "id": "ffb60331",
   "metadata": {},
   "outputs": [
    {
     "data": {
      "text/plain": [
       "array([[ 0,  1,  2],\n",
       "       [ 3,  4,  5],\n",
       "       [ 6,  7,  8],\n",
       "       [ 9, 10, 11],\n",
       "       [12, 13, 14]])"
      ]
     },
     "execution_count": 17,
     "metadata": {},
     "output_type": "execute_result"
    }
   ],
   "source": [
    "np.arange(0,15).reshape(5,3)"
   ]
  },
  {
   "cell_type": "code",
   "execution_count": 6,
   "id": "4f8eaaac",
   "metadata": {},
   "outputs": [
    {
     "data": {
      "text/plain": [
       "tensor([3, 7, 8, 9], dtype=torch.int32)"
      ]
     },
     "execution_count": 6,
     "metadata": {},
     "output_type": "execute_result"
    }
   ],
   "source": [
    "tensors=torch.from_numpy(ary)\n",
    "tensors"
   ]
  },
  {
   "cell_type": "code",
   "execution_count": 7,
   "id": "d37af794",
   "metadata": {},
   "outputs": [
    {
     "data": {
      "text/plain": [
       "tensor(8, dtype=torch.int32)"
      ]
     },
     "execution_count": 7,
     "metadata": {},
     "output_type": "execute_result"
    }
   ],
   "source": [
    "tensors[2]"
   ]
  },
  {
   "cell_type": "code",
   "execution_count": 9,
   "id": "b5dd5cce",
   "metadata": {},
   "outputs": [
    {
     "data": {
      "text/plain": [
       "tensor([7], dtype=torch.int32)"
      ]
     },
     "execution_count": 9,
     "metadata": {},
     "output_type": "execute_result"
    }
   ],
   "source": [
    "tensors[1:2]"
   ]
  },
  {
   "cell_type": "code",
   "execution_count": 13,
   "id": "7b25f0fb",
   "metadata": {},
   "outputs": [],
   "source": [
    "tensors[3]=100"
   ]
  },
  {
   "cell_type": "code",
   "execution_count": 14,
   "id": "8dc1a643",
   "metadata": {},
   "outputs": [
    {
     "data": {
      "text/plain": [
       "tensor([  3,   7,   8, 100], dtype=torch.int32)"
      ]
     },
     "execution_count": 14,
     "metadata": {},
     "output_type": "execute_result"
    }
   ],
   "source": [
    "tensors"
   ]
  },
  {
   "cell_type": "code",
   "execution_count": 15,
   "id": "84e30af5",
   "metadata": {},
   "outputs": [
    {
     "data": {
      "text/plain": [
       "tensor([  3,   7,   8, 100], dtype=torch.int32)"
      ]
     },
     "execution_count": 15,
     "metadata": {},
     "output_type": "execute_result"
    }
   ],
   "source": [
    "tensor_ary=torch.tensor(ary)\n",
    "tensor_ary"
   ]
  },
  {
   "cell_type": "code",
   "execution_count": 18,
   "id": "2968d06e",
   "metadata": {},
   "outputs": [
    {
     "name": "stdout",
     "output_type": "stream",
     "text": [
      "tensor([ 9, 15, 14], dtype=torch.int32)\n"
     ]
    }
   ],
   "source": [
    "a=torch.tensor([6,5,7], dtype=torch.int )\n",
    "b=torch.tensor([3,10,7], dtype=torch.int )\n",
    "print(a+b)"
   ]
  },
  {
   "cell_type": "code",
   "execution_count": 19,
   "id": "36d13e75",
   "metadata": {},
   "outputs": [
    {
     "data": {
      "text/plain": [
       "tensor([ 9, 15, 14], dtype=torch.int32)"
      ]
     },
     "execution_count": 19,
     "metadata": {},
     "output_type": "execute_result"
    }
   ],
   "source": [
    "addition=torch.add(a,b)\n",
    "addition\n"
   ]
  },
  {
   "cell_type": "code",
   "execution_count": null,
   "id": "371cf8a9",
   "metadata": {},
   "outputs": [],
   "source": [
    "s= torch.add(a,b)."
   ]
  },
  {
   "cell_type": "code",
   "execution_count": null,
   "id": "0643b43a",
   "metadata": {},
   "outputs": [],
   "source": []
  },
  {
   "cell_type": "code",
   "execution_count": null,
   "id": "939eb9f8",
   "metadata": {},
   "outputs": [],
   "source": []
  },
  {
   "cell_type": "code",
   "execution_count": null,
   "id": "042d898e",
   "metadata": {},
   "outputs": [],
   "source": []
  }
 ],
 "metadata": {
  "kernelspec": {
   "display_name": "Python 3 (ipykernel)",
   "language": "python",
   "name": "python3"
  },
  "language_info": {
   "codemirror_mode": {
    "name": "ipython",
    "version": 3
   },
   "file_extension": ".py",
   "mimetype": "text/x-python",
   "name": "python",
   "nbconvert_exporter": "python",
   "pygments_lexer": "ipython3",
   "version": "3.10.11"
  }
 },
 "nbformat": 4,
 "nbformat_minor": 5
}
