{
 "cells": [
  {
   "cell_type": "markdown",
   "id": "b31105c3",
   "metadata": {},
   "source": [
    "# tensor is a function in the PyTorch library that creates a new tensor object from the input data.\n",
    "\n",
    "\n",
    "##            torch.tensor(data, dtype=None, device=None, requires_grad=False)\n",
    "\n",
    "Parameters:\n",
    "\n",
    "data: Input data for the tensor, which can be a Python list, NumPy ndarray, scalar value, or another tensor.\n",
    "\n",
    "dtype: Data type of the tensor elements (default: None, which infers the data type from the input data).\n",
    "\n",
    "device: Device (CPU or GPU) on which the tensor will be created (default: None, which creates the tensor on the CPU).\n",
    "\n",
    "requires_grad: Boolean flag indicating whether the tensor will require gradient computation for automatic differentiation (default: False).\n",
    "\n",
    "pin_memory: Boolean flag indicating whether to allocate the tensor in pinned memory (default: False)."
   ]
  },
  {
   "cell_type": "code",
   "execution_count": 38,
   "id": "7ba5d51a",
   "metadata": {},
   "outputs": [],
   "source": [
    "import numpy as np\n",
    "import torch"
   ]
  },
  {
   "cell_type": "code",
   "execution_count": 39,
   "id": "03afe3e3",
   "metadata": {},
   "outputs": [],
   "source": [
    "list=[3,7,8,9]\n",
    "ary=np.array(list)\n"
   ]
  },
  {
   "cell_type": "code",
   "execution_count": 43,
   "id": "a87195ca",
   "metadata": {},
   "outputs": [
    {
     "data": {
      "text/plain": [
       "array([3, 7, 8, 9])"
      ]
     },
     "execution_count": 43,
     "metadata": {},
     "output_type": "execute_result"
    }
   ],
   "source": [
    "ary"
   ]
  },
  {
   "cell_type": "code",
   "execution_count": 4,
   "id": "60dee72a",
   "metadata": {},
   "outputs": [
    {
     "data": {
      "text/plain": [
       "array([[ 0,  1,  2],\n",
       "       [ 3,  4,  5],\n",
       "       [ 6,  7,  8],\n",
       "       [ 9, 10, 11],\n",
       "       [12, 13, 14]])"
      ]
     },
     "execution_count": 4,
     "metadata": {},
     "output_type": "execute_result"
    }
   ],
   "source": [
    "np.arange(0,15).reshape(5,3)"
   ]
  },
  {
   "cell_type": "code",
   "execution_count": 44,
   "id": "0476114b",
   "metadata": {},
   "outputs": [
    {
     "data": {
      "text/plain": [
       "tensor([3, 7, 8, 9], dtype=torch.int32)"
      ]
     },
     "execution_count": 44,
     "metadata": {},
     "output_type": "execute_result"
    }
   ],
   "source": [
    "tensors=torch.from_numpy(ary)\n",
    "tensors"
   ]
  },
  {
   "cell_type": "code",
   "execution_count": 6,
   "id": "dfd52d93",
   "metadata": {},
   "outputs": [
    {
     "data": {
      "text/plain": [
       "tensor(8, dtype=torch.int32)"
      ]
     },
     "execution_count": 6,
     "metadata": {},
     "output_type": "execute_result"
    }
   ],
   "source": [
    "tensors[2]"
   ]
  },
  {
   "cell_type": "code",
   "execution_count": 7,
   "id": "91bc250f",
   "metadata": {},
   "outputs": [
    {
     "data": {
      "text/plain": [
       "tensor([7], dtype=torch.int32)"
      ]
     },
     "execution_count": 7,
     "metadata": {},
     "output_type": "execute_result"
    }
   ],
   "source": [
    "tensors[1:2]"
   ]
  },
  {
   "cell_type": "code",
   "execution_count": 8,
   "id": "46d366bb",
   "metadata": {},
   "outputs": [],
   "source": [
    "tensors[3]=100"
   ]
  },
  {
   "cell_type": "code",
   "execution_count": 9,
   "id": "f0d43095",
   "metadata": {},
   "outputs": [
    {
     "data": {
      "text/plain": [
       "tensor([  3,   7,   8, 100], dtype=torch.int32)"
      ]
     },
     "execution_count": 9,
     "metadata": {},
     "output_type": "execute_result"
    }
   ],
   "source": [
    "tensors"
   ]
  },
  {
   "cell_type": "code",
   "execution_count": 10,
   "id": "7061b5b1",
   "metadata": {},
   "outputs": [
    {
     "data": {
      "text/plain": [
       "tensor([  3,   7,   8, 100], dtype=torch.int32)"
      ]
     },
     "execution_count": 10,
     "metadata": {},
     "output_type": "execute_result"
    }
   ],
   "source": [
    "tensor_ary=torch.tensor(ary)\n",
    "tensor_ary"
   ]
  },
  {
   "cell_type": "markdown",
   "id": "2811a235",
   "metadata": {},
   "source": [
    "# Addition"
   ]
  },
  {
   "cell_type": "code",
   "execution_count": 37,
   "id": "7ee2192b",
   "metadata": {},
   "outputs": [
    {
     "name": "stdout",
     "output_type": "stream",
     "text": [
      "tensor([ 9, 15, 14])\n"
     ]
    }
   ],
   "source": [
    "a=torch.tensor([6,5,7], dtype=torch.int )\n",
    "b=torch.tensor([3,10,7], dtype=torch.int )\n",
    "print(a+b)"
   ]
  },
  {
   "cell_type": "code",
   "execution_count": 12,
   "id": "7a31c7af",
   "metadata": {},
   "outputs": [
    {
     "data": {
      "text/plain": [
       "tensor([ 9, 15, 14], dtype=torch.int32)"
      ]
     },
     "execution_count": 12,
     "metadata": {},
     "output_type": "execute_result"
    }
   ],
   "source": [
    "addition=torch.add(a,b)\n",
    "addition\n"
   ]
  },
  {
   "cell_type": "code",
   "execution_count": 31,
   "id": "094e1382",
   "metadata": {},
   "outputs": [
    {
     "data": {
      "text/plain": [
       "tensor(38)"
      ]
     },
     "execution_count": 31,
     "metadata": {},
     "output_type": "execute_result"
    }
   ],
   "source": [
    "s=torch.add(a,b).sum()\n",
    "s"
   ]
  },
  {
   "cell_type": "markdown",
   "id": "0932c7d4",
   "metadata": {},
   "source": [
    "# Multiplication"
   ]
  },
  {
   "cell_type": "code",
   "execution_count": null,
   "id": "b72d6665",
   "metadata": {},
   "outputs": [],
   "source": [
    "\n",
    "y= torch.tensor([5,5,10], dtype= torch.int)"
   ]
  },
  {
   "cell_type": "code",
   "execution_count": 21,
   "id": "cd04ae3c",
   "metadata": {},
   "outputs": [
    {
     "data": {
      "text/plain": [
       "tensor([25, 40, 50], dtype=torch.int32)"
      ]
     },
     "execution_count": 21,
     "metadata": {},
     "output_type": "execute_result"
    }
   ],
   "source": [
    "x.mul(y)"
   ]
  },
  {
   "cell_type": "code",
   "execution_count": 25,
   "id": "ba31cd92",
   "metadata": {},
   "outputs": [
    {
     "data": {
      "text/plain": [
       "tensor(115, dtype=torch.int32)"
      ]
     },
     "execution_count": 25,
     "metadata": {},
     "output_type": "execute_result"
    }
   ],
   "source": [
    "z=x.dot(y)\n",
    "z"
   ]
  },
  {
   "cell_type": "code",
   "execution_count": 29,
   "id": "66551f57",
   "metadata": {},
   "outputs": [
    {
     "data": {
      "text/plain": [
       "tensor(115)"
      ]
     },
     "execution_count": 29,
     "metadata": {},
     "output_type": "execute_result"
    }
   ],
   "source": [
    "p=torch.mul(x,y).sum()\n",
    "p"
   ]
  },
  {
   "cell_type": "code",
   "execution_count": null,
   "id": "c335f823",
   "metadata": {},
   "outputs": [],
   "source": []
  },
  {
   "cell_type": "code",
   "execution_count": null,
   "id": "a998460e",
   "metadata": {},
   "outputs": [],
   "source": []
  },
  {
   "cell_type": "code",
   "execution_count": null,
   "id": "63ef147d",
   "metadata": {},
   "outputs": [],
   "source": []
  }
 ],
 "metadata": {
  "kernelspec": {
   "display_name": "Python 3 (ipykernel)",
   "language": "python",
   "name": "python3"
  },
  "language_info": {
   "codemirror_mode": {
    "name": "ipython",
    "version": 3
   },
   "file_extension": ".py",
   "mimetype": "text/x-python",
   "name": "python",
   "nbconvert_exporter": "python",
   "pygments_lexer": "ipython3",
   "version": "3.10.11"
  }
 },
 "nbformat": 4,
 "nbformat_minor": 5
}
