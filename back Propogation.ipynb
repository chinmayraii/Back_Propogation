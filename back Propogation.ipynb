{
 "cells": [
  {
   "cell_type": "markdown",
   "id": "b70643ed",
   "metadata": {},
   "source": [
    "## Back Propogation using PyTorch\n",
    "\n",
    "# y=x^2"
   ]
  },
  {
   "cell_type": "code",
   "execution_count": null,
   "id": "38271fe2",
   "metadata": {},
   "outputs": [],
   "source": [
    "pip install torch"
   ]
  },
  {
   "cell_type": "code",
   "execution_count": null,
   "id": "8fe66353",
   "metadata": {},
   "outputs": [],
   "source": [
    "import torch"
   ]
  },
  {
   "cell_type": "code",
   "execution_count": null,
   "id": "cc6964a9",
   "metadata": {},
   "outputs": [],
   "source": [
    "x=torch.tensor(4, requires_grad=True , dtype=torch.float)\n",
    "x"
   ]
  },
  {
   "cell_type": "code",
   "execution_count": null,
   "id": "a4dc7d00",
   "metadata": {},
   "outputs": [],
   "source": [
    "y=x**2\n",
    "y"
   ]
  },
  {
   "cell_type": "code",
   "execution_count": null,
   "id": "6fc6fd40",
   "metadata": {},
   "outputs": [],
   "source": [
    "lst=[[1.,2.,3.],[4.,5.,6.],[7.,8.,9.]]\n",
    "torch_input=torch.tensor(lst,requires_grad=True )\n",
    "torch_input\n"
   ]
  },
  {
   "cell_type": "code",
   "execution_count": null,
   "id": "c58f1bbe",
   "metadata": {},
   "outputs": [],
   "source": []
  },
  {
   "cell_type": "code",
   "execution_count": null,
   "id": "78854cd6",
   "metadata": {},
   "outputs": [],
   "source": [
    "# y= x**3+ x**2\n",
    "# y=3x**2 + 2x  \n",
    "\n",
    "y=torch_input**3+ torch_input**2"
   ]
  },
  {
   "cell_type": "code",
   "execution_count": null,
   "id": "cb79f529",
   "metadata": {},
   "outputs": [],
   "source": [
    "y"
   ]
  },
  {
   "cell_type": "code",
   "execution_count": null,
   "id": "d5b378d3",
   "metadata": {},
   "outputs": [],
   "source": [
    "z=y.sum()\n",
    "z"
   ]
  },
  {
   "cell_type": "code",
   "execution_count": null,
   "id": "88c292c0",
   "metadata": {},
   "outputs": [],
   "source": [
    "z.backward()"
   ]
  },
  {
   "cell_type": "code",
   "execution_count": null,
   "id": "94bb14e7",
   "metadata": {},
   "outputs": [],
   "source": [
    "torch_input.grad"
   ]
  },
  {
   "cell_type": "code",
   "execution_count": null,
   "id": "5c32101a",
   "metadata": {},
   "outputs": [],
   "source": []
  },
  {
   "cell_type": "code",
   "execution_count": null,
   "id": "50d6d96c",
   "metadata": {},
   "outputs": [],
   "source": []
  },
  {
   "cell_type": "code",
   "execution_count": null,
   "id": "5b143fb2",
   "metadata": {},
   "outputs": [],
   "source": []
  }
 ],
 "metadata": {
  "kernelspec": {
   "display_name": "Python 3 (ipykernel)",
   "language": "python",
   "name": "python3"
  },
  "language_info": {
   "codemirror_mode": {
    "name": "ipython",
    "version": 3
   },
   "file_extension": ".py",
   "mimetype": "text/x-python",
   "name": "python",
   "nbconvert_exporter": "python",
   "pygments_lexer": "ipython3",
   "version": "3.10.11"
  }
 },
 "nbformat": 4,
 "nbformat_minor": 5
}
